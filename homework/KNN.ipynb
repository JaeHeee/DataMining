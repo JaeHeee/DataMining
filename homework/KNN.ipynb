{
 "cells": [
  {
   "cell_type": "code",
   "execution_count": 232,
   "metadata": {},
   "outputs": [],
   "source": [
    "import pandas as pd\n",
    "import numpy as np"
   ]
  },
  {
   "cell_type": "code",
   "execution_count": 233,
   "metadata": {},
   "outputs": [],
   "source": [
    "data = [{'x1': 5, 'x2' :0.7, 'x3' :7.200, 'class' :1},{'x1': 4, 'x2' :0.3, 'x3' :3.278, 'class' :2},{'x1': 7, 'x2' :0.8, 'x3' :8.110, 'class' :2}\n",
    "       ,{'x1': 8, 'x2' :0.6, 'x3' :6.356, 'class' :2},{'x1': 3, 'x2' :0.6, 'x3' :6.001, 'class' :1},{'x1': 2, 'x2' :0.5, 'x3' :5.342, 'class' :1}\n",
    "       ,{'x1': 9, 'x2' :0.6, 'x3' :6.220, 'class' :2}]"
   ]
  },
  {
   "cell_type": "code",
   "execution_count": 234,
   "metadata": {
    "scrolled": true
   },
   "outputs": [],
   "source": [
    "test =pd.DataFrame(data)"
   ]
  },
  {
   "cell_type": "code",
   "execution_count": 235,
   "metadata": {},
   "outputs": [
    {
     "data": {
      "text/html": [
       "<div>\n",
       "<style scoped>\n",
       "    .dataframe tbody tr th:only-of-type {\n",
       "        vertical-align: middle;\n",
       "    }\n",
       "\n",
       "    .dataframe tbody tr th {\n",
       "        vertical-align: top;\n",
       "    }\n",
       "\n",
       "    .dataframe thead th {\n",
       "        text-align: right;\n",
       "    }\n",
       "</style>\n",
       "<table border=\"1\" class=\"dataframe\">\n",
       "  <thead>\n",
       "    <tr style=\"text-align: right;\">\n",
       "      <th></th>\n",
       "      <th>x1</th>\n",
       "      <th>x2</th>\n",
       "      <th>x3</th>\n",
       "      <th>class</th>\n",
       "    </tr>\n",
       "  </thead>\n",
       "  <tbody>\n",
       "    <tr>\n",
       "      <th>0</th>\n",
       "      <td>5</td>\n",
       "      <td>0.7</td>\n",
       "      <td>7.200</td>\n",
       "      <td>1</td>\n",
       "    </tr>\n",
       "    <tr>\n",
       "      <th>1</th>\n",
       "      <td>4</td>\n",
       "      <td>0.3</td>\n",
       "      <td>3.278</td>\n",
       "      <td>2</td>\n",
       "    </tr>\n",
       "    <tr>\n",
       "      <th>2</th>\n",
       "      <td>7</td>\n",
       "      <td>0.8</td>\n",
       "      <td>8.110</td>\n",
       "      <td>2</td>\n",
       "    </tr>\n",
       "    <tr>\n",
       "      <th>3</th>\n",
       "      <td>8</td>\n",
       "      <td>0.6</td>\n",
       "      <td>6.356</td>\n",
       "      <td>2</td>\n",
       "    </tr>\n",
       "    <tr>\n",
       "      <th>4</th>\n",
       "      <td>3</td>\n",
       "      <td>0.6</td>\n",
       "      <td>6.001</td>\n",
       "      <td>1</td>\n",
       "    </tr>\n",
       "    <tr>\n",
       "      <th>5</th>\n",
       "      <td>2</td>\n",
       "      <td>0.5</td>\n",
       "      <td>5.342</td>\n",
       "      <td>1</td>\n",
       "    </tr>\n",
       "    <tr>\n",
       "      <th>6</th>\n",
       "      <td>9</td>\n",
       "      <td>0.6</td>\n",
       "      <td>6.220</td>\n",
       "      <td>2</td>\n",
       "    </tr>\n",
       "  </tbody>\n",
       "</table>\n",
       "</div>"
      ],
      "text/plain": [
       "   x1   x2     x3  class\n",
       "0   5  0.7  7.200      1\n",
       "1   4  0.3  3.278      2\n",
       "2   7  0.8  8.110      2\n",
       "3   8  0.6  6.356      2\n",
       "4   3  0.6  6.001      1\n",
       "5   2  0.5  5.342      1\n",
       "6   9  0.6  6.220      2"
      ]
     },
     "execution_count": 235,
     "metadata": {},
     "output_type": "execute_result"
    }
   ],
   "source": [
    "test"
   ]
  },
  {
   "cell_type": "code",
   "execution_count": 236,
   "metadata": {},
   "outputs": [],
   "source": [
    "num = test.iloc[:,:-1]"
   ]
  },
  {
   "cell_type": "code",
   "execution_count": 237,
   "metadata": {},
   "outputs": [
    {
     "data": {
      "text/html": [
       "<div>\n",
       "<style scoped>\n",
       "    .dataframe tbody tr th:only-of-type {\n",
       "        vertical-align: middle;\n",
       "    }\n",
       "\n",
       "    .dataframe tbody tr th {\n",
       "        vertical-align: top;\n",
       "    }\n",
       "\n",
       "    .dataframe thead th {\n",
       "        text-align: right;\n",
       "    }\n",
       "</style>\n",
       "<table border=\"1\" class=\"dataframe\">\n",
       "  <thead>\n",
       "    <tr style=\"text-align: right;\">\n",
       "      <th></th>\n",
       "      <th>x1</th>\n",
       "      <th>x2</th>\n",
       "      <th>x3</th>\n",
       "    </tr>\n",
       "  </thead>\n",
       "  <tbody>\n",
       "    <tr>\n",
       "      <th>0</th>\n",
       "      <td>5</td>\n",
       "      <td>0.7</td>\n",
       "      <td>7.200</td>\n",
       "    </tr>\n",
       "    <tr>\n",
       "      <th>1</th>\n",
       "      <td>4</td>\n",
       "      <td>0.3</td>\n",
       "      <td>3.278</td>\n",
       "    </tr>\n",
       "    <tr>\n",
       "      <th>2</th>\n",
       "      <td>7</td>\n",
       "      <td>0.8</td>\n",
       "      <td>8.110</td>\n",
       "    </tr>\n",
       "    <tr>\n",
       "      <th>3</th>\n",
       "      <td>8</td>\n",
       "      <td>0.6</td>\n",
       "      <td>6.356</td>\n",
       "    </tr>\n",
       "    <tr>\n",
       "      <th>4</th>\n",
       "      <td>3</td>\n",
       "      <td>0.6</td>\n",
       "      <td>6.001</td>\n",
       "    </tr>\n",
       "    <tr>\n",
       "      <th>5</th>\n",
       "      <td>2</td>\n",
       "      <td>0.5</td>\n",
       "      <td>5.342</td>\n",
       "    </tr>\n",
       "    <tr>\n",
       "      <th>6</th>\n",
       "      <td>9</td>\n",
       "      <td>0.6</td>\n",
       "      <td>6.220</td>\n",
       "    </tr>\n",
       "  </tbody>\n",
       "</table>\n",
       "</div>"
      ],
      "text/plain": [
       "   x1   x2     x3\n",
       "0   5  0.7  7.200\n",
       "1   4  0.3  3.278\n",
       "2   7  0.8  8.110\n",
       "3   8  0.6  6.356\n",
       "4   3  0.6  6.001\n",
       "5   2  0.5  5.342\n",
       "6   9  0.6  6.220"
      ]
     },
     "execution_count": 237,
     "metadata": {},
     "output_type": "execute_result"
    }
   ],
   "source": [
    "num"
   ]
  },
  {
   "cell_type": "code",
   "execution_count": 238,
   "metadata": {},
   "outputs": [
    {
     "data": {
      "text/plain": [
       "0    5\n",
       "1    4\n",
       "2    7\n",
       "3    8\n",
       "4    3\n",
       "5    2\n",
       "6    9\n",
       "Name: x1, dtype: int64"
      ]
     },
     "execution_count": 238,
     "metadata": {},
     "output_type": "execute_result"
    }
   ],
   "source": [
    "test[\"x1\"]"
   ]
  },
  {
   "cell_type": "code",
   "execution_count": 239,
   "metadata": {},
   "outputs": [
    {
     "data": {
      "text/plain": [
       "0    0.428571\n",
       "1    0.285714\n",
       "2    0.714286\n",
       "3    0.857143\n",
       "4    0.142857\n",
       "5    0.000000\n",
       "6    1.000000\n",
       "Name: x1, dtype: float64"
      ]
     },
     "execution_count": 239,
     "metadata": {},
     "output_type": "execute_result"
    }
   ],
   "source": [
    "(test[\"x1\"]-test[\"x1\"].min())/(test[\"x1\"].max() - test[\"x1\"].min())"
   ]
  },
  {
   "cell_type": "code",
   "execution_count": 240,
   "metadata": {},
   "outputs": [
    {
     "data": {
      "text/plain": [
       "0    0.8\n",
       "1    0.0\n",
       "2    1.0\n",
       "3    0.6\n",
       "4    0.6\n",
       "5    0.4\n",
       "6    0.6\n",
       "Name: x2, dtype: float64"
      ]
     },
     "execution_count": 240,
     "metadata": {},
     "output_type": "execute_result"
    }
   ],
   "source": [
    "(test[\"x2\"]-test[\"x2\"].min())/(test[\"x2\"].max() - test[\"x2\"].min())"
   ]
  },
  {
   "cell_type": "code",
   "execution_count": 241,
   "metadata": {},
   "outputs": [
    {
     "data": {
      "text/plain": [
       "0    0.811672\n",
       "1    0.000000\n",
       "2    1.000000\n",
       "3    0.637003\n",
       "4    0.563535\n",
       "5    0.427152\n",
       "6    0.608858\n",
       "Name: x3, dtype: float64"
      ]
     },
     "execution_count": 241,
     "metadata": {},
     "output_type": "execute_result"
    }
   ],
   "source": [
    "(test[\"x3\"]-test[\"x3\"].min())/(test[\"x3\"].max() - test[\"x3\"].min())"
   ]
  },
  {
   "cell_type": "code",
   "execution_count": 242,
   "metadata": {},
   "outputs": [],
   "source": [
    "from sklearn import preprocessing"
   ]
  },
  {
   "cell_type": "code",
   "execution_count": 243,
   "metadata": {},
   "outputs": [],
   "source": [
    "minmax_scalar = preprocessing.MinMaxScaler().fit(test[[\"x1\",\"x2\",\"x3\"]])"
   ]
  },
  {
   "cell_type": "code",
   "execution_count": 244,
   "metadata": {},
   "outputs": [],
   "source": [
    "df_minmax = minmax_scalar.transform(test[[\"x1\",\"x2\",\"x3\"]])"
   ]
  },
  {
   "cell_type": "code",
   "execution_count": 245,
   "metadata": {},
   "outputs": [
    {
     "data": {
      "text/plain": [
       "array([[0.42857143, 0.8       , 0.81167219],\n",
       "       [0.28571429, 0.        , 0.        ],\n",
       "       [0.71428571, 1.        , 1.        ],\n",
       "       [0.85714286, 0.6       , 0.63700331],\n",
       "       [0.14285714, 0.6       , 0.56353477],\n",
       "       [0.        , 0.4       , 0.42715232],\n",
       "       [1.        , 0.6       , 0.60885762]])"
      ]
     },
     "execution_count": 245,
     "metadata": {},
     "output_type": "execute_result"
    }
   ],
   "source": [
    "df_minmax"
   ]
  },
  {
   "cell_type": "code",
   "execution_count": 246,
   "metadata": {},
   "outputs": [],
   "source": [
    "df_minmax =pd.DataFrame(df_minmax,columns=['x1','x2','x3'])"
   ]
  },
  {
   "cell_type": "code",
   "execution_count": 247,
   "metadata": {},
   "outputs": [],
   "source": [
    "out = pd.concat([df_minmax,test.iloc[:,-1:]],axis=1)"
   ]
  },
  {
   "cell_type": "code",
   "execution_count": 248,
   "metadata": {},
   "outputs": [
    {
     "data": {
      "text/plain": [
       "Index(['x1', 'x2', 'x3', 'class'], dtype='object')"
      ]
     },
     "execution_count": 248,
     "metadata": {},
     "output_type": "execute_result"
    }
   ],
   "source": [
    "out.columns"
   ]
  },
  {
   "cell_type": "code",
   "execution_count": 249,
   "metadata": {},
   "outputs": [
    {
     "data": {
      "text/html": [
       "<div>\n",
       "<style scoped>\n",
       "    .dataframe tbody tr th:only-of-type {\n",
       "        vertical-align: middle;\n",
       "    }\n",
       "\n",
       "    .dataframe tbody tr th {\n",
       "        vertical-align: top;\n",
       "    }\n",
       "\n",
       "    .dataframe thead th {\n",
       "        text-align: right;\n",
       "    }\n",
       "</style>\n",
       "<table border=\"1\" class=\"dataframe\">\n",
       "  <thead>\n",
       "    <tr style=\"text-align: right;\">\n",
       "      <th></th>\n",
       "      <th>x1</th>\n",
       "      <th>x2</th>\n",
       "      <th>x3</th>\n",
       "      <th>class</th>\n",
       "    </tr>\n",
       "  </thead>\n",
       "  <tbody>\n",
       "    <tr>\n",
       "      <th>0</th>\n",
       "      <td>0.428571</td>\n",
       "      <td>0.8</td>\n",
       "      <td>0.811672</td>\n",
       "      <td>1</td>\n",
       "    </tr>\n",
       "    <tr>\n",
       "      <th>1</th>\n",
       "      <td>0.285714</td>\n",
       "      <td>0.0</td>\n",
       "      <td>0.000000</td>\n",
       "      <td>2</td>\n",
       "    </tr>\n",
       "    <tr>\n",
       "      <th>2</th>\n",
       "      <td>0.714286</td>\n",
       "      <td>1.0</td>\n",
       "      <td>1.000000</td>\n",
       "      <td>2</td>\n",
       "    </tr>\n",
       "    <tr>\n",
       "      <th>3</th>\n",
       "      <td>0.857143</td>\n",
       "      <td>0.6</td>\n",
       "      <td>0.637003</td>\n",
       "      <td>2</td>\n",
       "    </tr>\n",
       "    <tr>\n",
       "      <th>4</th>\n",
       "      <td>0.142857</td>\n",
       "      <td>0.6</td>\n",
       "      <td>0.563535</td>\n",
       "      <td>1</td>\n",
       "    </tr>\n",
       "    <tr>\n",
       "      <th>5</th>\n",
       "      <td>0.000000</td>\n",
       "      <td>0.4</td>\n",
       "      <td>0.427152</td>\n",
       "      <td>1</td>\n",
       "    </tr>\n",
       "    <tr>\n",
       "      <th>6</th>\n",
       "      <td>1.000000</td>\n",
       "      <td>0.6</td>\n",
       "      <td>0.608858</td>\n",
       "      <td>2</td>\n",
       "    </tr>\n",
       "  </tbody>\n",
       "</table>\n",
       "</div>"
      ],
      "text/plain": [
       "         x1   x2        x3  class\n",
       "0  0.428571  0.8  0.811672      1\n",
       "1  0.285714  0.0  0.000000      2\n",
       "2  0.714286  1.0  1.000000      2\n",
       "3  0.857143  0.6  0.637003      2\n",
       "4  0.142857  0.6  0.563535      1\n",
       "5  0.000000  0.4  0.427152      1\n",
       "6  1.000000  0.6  0.608858      2"
      ]
     },
     "execution_count": 249,
     "metadata": {},
     "output_type": "execute_result"
    }
   ],
   "source": [
    "out"
   ]
  },
  {
   "cell_type": "code",
   "execution_count": 258,
   "metadata": {},
   "outputs": [
    {
     "data": {
      "text/html": [
       "<div>\n",
       "<style scoped>\n",
       "    .dataframe tbody tr th:only-of-type {\n",
       "        vertical-align: middle;\n",
       "    }\n",
       "\n",
       "    .dataframe tbody tr th {\n",
       "        vertical-align: top;\n",
       "    }\n",
       "\n",
       "    .dataframe thead th {\n",
       "        text-align: right;\n",
       "    }\n",
       "</style>\n",
       "<table border=\"1\" class=\"dataframe\">\n",
       "  <thead>\n",
       "    <tr style=\"text-align: right;\">\n",
       "      <th></th>\n",
       "      <th>x1</th>\n",
       "      <th>x2</th>\n",
       "      <th>x3</th>\n",
       "    </tr>\n",
       "  </thead>\n",
       "  <tbody>\n",
       "    <tr>\n",
       "      <th>6</th>\n",
       "      <td>1.0</td>\n",
       "      <td>0.6</td>\n",
       "      <td>0.608858</td>\n",
       "    </tr>\n",
       "  </tbody>\n",
       "</table>\n",
       "</div>"
      ],
      "text/plain": [
       "    x1   x2        x3\n",
       "6  1.0  0.6  0.608858"
      ]
     },
     "execution_count": 258,
     "metadata": {},
     "output_type": "execute_result"
    }
   ],
   "source": [
    "out.iloc[6:,:3]"
   ]
  },
  {
   "cell_type": "code",
   "execution_count": 259,
   "metadata": {},
   "outputs": [],
   "source": [
    "out['distance0'] = out[['x1','x2','x3']].sub(np.array(out.iloc[:1,:3])).pow(2).sum(1).pow(0.5)\n",
    "out['distance1'] = out[['x1','x2','x3']].sub(np.array(out.iloc[1:2,:3])).pow(2).sum(1).pow(0.5)\n",
    "out['distance2'] = out[['x1','x2','x3']].sub(np.array(out.iloc[2:3,:3])).pow(2).sum(1).pow(0.5)\n",
    "out['distance3'] = out[['x1','x2','x3']].sub(np.array(out.iloc[3:4,:3])).pow(2).sum(1).pow(0.5)\n",
    "out['distance4'] = out[['x1','x2','x3']].sub(np.array(out.iloc[4:5,:3])).pow(2).sum(1).pow(0.5)\n",
    "out['distance5'] = out[['x1','x2','x3']].sub(np.array(out.iloc[5:6,:3])).pow(2).sum(1).pow(0.5)\n",
    "out['distance6'] = out[['x1','x2','x3']].sub(np.array(out.iloc[6:,:3])).pow(2).sum(1).pow(0.5)"
   ]
  },
  {
   "cell_type": "code",
   "execution_count": 260,
   "metadata": {},
   "outputs": [
    {
     "data": {
      "text/html": [
       "<div>\n",
       "<style scoped>\n",
       "    .dataframe tbody tr th:only-of-type {\n",
       "        vertical-align: middle;\n",
       "    }\n",
       "\n",
       "    .dataframe tbody tr th {\n",
       "        vertical-align: top;\n",
       "    }\n",
       "\n",
       "    .dataframe thead th {\n",
       "        text-align: right;\n",
       "    }\n",
       "</style>\n",
       "<table border=\"1\" class=\"dataframe\">\n",
       "  <thead>\n",
       "    <tr style=\"text-align: right;\">\n",
       "      <th></th>\n",
       "      <th>x1</th>\n",
       "      <th>x2</th>\n",
       "      <th>x3</th>\n",
       "      <th>class</th>\n",
       "      <th>distance0</th>\n",
       "      <th>distance1</th>\n",
       "      <th>distance2</th>\n",
       "      <th>distance3</th>\n",
       "      <th>distance4</th>\n",
       "      <th>distance5</th>\n",
       "      <th>distance6</th>\n",
       "    </tr>\n",
       "  </thead>\n",
       "  <tbody>\n",
       "    <tr>\n",
       "      <th>0</th>\n",
       "      <td>0.428571</td>\n",
       "      <td>0.8</td>\n",
       "      <td>0.811672</td>\n",
       "      <td>1</td>\n",
       "      <td>0.000000</td>\n",
       "      <td>1.148573</td>\n",
       "      <td>0.396358</td>\n",
       "      <td>0.504165</td>\n",
       "      <td>0.428024</td>\n",
       "      <td>0.701091</td>\n",
       "      <td>0.638486</td>\n",
       "    </tr>\n",
       "    <tr>\n",
       "      <th>1</th>\n",
       "      <td>0.285714</td>\n",
       "      <td>0.0</td>\n",
       "      <td>0.000000</td>\n",
       "      <td>2</td>\n",
       "      <td>1.148573</td>\n",
       "      <td>0.000000</td>\n",
       "      <td>1.477726</td>\n",
       "      <td>1.045133</td>\n",
       "      <td>0.835452</td>\n",
       "      <td>0.651223</td>\n",
       "      <td>1.113962</td>\n",
       "    </tr>\n",
       "    <tr>\n",
       "      <th>2</th>\n",
       "      <td>0.714286</td>\n",
       "      <td>1.0</td>\n",
       "      <td>1.000000</td>\n",
       "      <td>2</td>\n",
       "      <td>0.396358</td>\n",
       "      <td>1.477726</td>\n",
       "      <td>0.000000</td>\n",
       "      <td>0.558726</td>\n",
       "      <td>0.822820</td>\n",
       "      <td>1.094696</td>\n",
       "      <td>0.628192</td>\n",
       "    </tr>\n",
       "    <tr>\n",
       "      <th>3</th>\n",
       "      <td>0.857143</td>\n",
       "      <td>0.6</td>\n",
       "      <td>0.637003</td>\n",
       "      <td>2</td>\n",
       "      <td>0.504165</td>\n",
       "      <td>1.045133</td>\n",
       "      <td>0.558726</td>\n",
       "      <td>0.000000</td>\n",
       "      <td>0.718054</td>\n",
       "      <td>0.904838</td>\n",
       "      <td>0.145603</td>\n",
       "    </tr>\n",
       "    <tr>\n",
       "      <th>4</th>\n",
       "      <td>0.142857</td>\n",
       "      <td>0.6</td>\n",
       "      <td>0.563535</td>\n",
       "      <td>1</td>\n",
       "      <td>0.428024</td>\n",
       "      <td>0.835452</td>\n",
       "      <td>0.822820</td>\n",
       "      <td>0.718054</td>\n",
       "      <td>0.000000</td>\n",
       "      <td>0.281084</td>\n",
       "      <td>0.858340</td>\n",
       "    </tr>\n",
       "    <tr>\n",
       "      <th>5</th>\n",
       "      <td>0.000000</td>\n",
       "      <td>0.4</td>\n",
       "      <td>0.427152</td>\n",
       "      <td>1</td>\n",
       "      <td>0.701091</td>\n",
       "      <td>0.651223</td>\n",
       "      <td>1.094696</td>\n",
       "      <td>0.904838</td>\n",
       "      <td>0.281084</td>\n",
       "      <td>0.000000</td>\n",
       "      <td>1.035865</td>\n",
       "    </tr>\n",
       "    <tr>\n",
       "      <th>6</th>\n",
       "      <td>1.000000</td>\n",
       "      <td>0.6</td>\n",
       "      <td>0.608858</td>\n",
       "      <td>2</td>\n",
       "      <td>0.638486</td>\n",
       "      <td>1.113962</td>\n",
       "      <td>0.628192</td>\n",
       "      <td>0.145603</td>\n",
       "      <td>0.858340</td>\n",
       "      <td>1.035865</td>\n",
       "      <td>0.000000</td>\n",
       "    </tr>\n",
       "  </tbody>\n",
       "</table>\n",
       "</div>"
      ],
      "text/plain": [
       "         x1   x2        x3  class  distance0  distance1  distance2  distance3  \\\n",
       "0  0.428571  0.8  0.811672      1   0.000000   1.148573   0.396358   0.504165   \n",
       "1  0.285714  0.0  0.000000      2   1.148573   0.000000   1.477726   1.045133   \n",
       "2  0.714286  1.0  1.000000      2   0.396358   1.477726   0.000000   0.558726   \n",
       "3  0.857143  0.6  0.637003      2   0.504165   1.045133   0.558726   0.000000   \n",
       "4  0.142857  0.6  0.563535      1   0.428024   0.835452   0.822820   0.718054   \n",
       "5  0.000000  0.4  0.427152      1   0.701091   0.651223   1.094696   0.904838   \n",
       "6  1.000000  0.6  0.608858      2   0.638486   1.113962   0.628192   0.145603   \n",
       "\n",
       "   distance4  distance5  distance6  \n",
       "0   0.428024   0.701091   0.638486  \n",
       "1   0.835452   0.651223   1.113962  \n",
       "2   0.822820   1.094696   0.628192  \n",
       "3   0.718054   0.904838   0.145603  \n",
       "4   0.000000   0.281084   0.858340  \n",
       "5   0.281084   0.000000   1.035865  \n",
       "6   0.858340   1.035865   0.000000  "
      ]
     },
     "execution_count": 260,
     "metadata": {},
     "output_type": "execute_result"
    }
   ],
   "source": [
    "out"
   ]
  },
  {
   "cell_type": "code",
   "execution_count": 261,
   "metadata": {},
   "outputs": [],
   "source": [
    "from sklearn.preprocessing import StandardScaler\n",
    "std_scaler = StandardScaler()"
   ]
  },
  {
   "cell_type": "code",
   "execution_count": 262,
   "metadata": {},
   "outputs": [],
   "source": [
    "fitted = std_scaler.fit(num)"
   ]
  },
  {
   "cell_type": "code",
   "execution_count": 263,
   "metadata": {},
   "outputs": [],
   "source": [
    "num = std_scaler.transform(num)"
   ]
  },
  {
   "cell_type": "code",
   "execution_count": 264,
   "metadata": {},
   "outputs": [
    {
     "data": {
      "text/plain": [
       "array([[-0.17556172,  0.78446454,  0.8009614 ],\n",
       "       [-0.58520574, -1.96116135, -1.98500012],\n",
       "       [ 0.64372631,  1.47087101,  1.44737267],\n",
       "       [ 1.05337032,  0.09805807,  0.20143271],\n",
       "       [-0.99484975,  0.09805807, -0.05073872],\n",
       "       [-1.40449377, -0.58834841, -0.51885413],\n",
       "       [ 1.46301434,  0.09805807,  0.10482619]])"
      ]
     },
     "execution_count": 264,
     "metadata": {},
     "output_type": "execute_result"
    }
   ],
   "source": [
    "num"
   ]
  },
  {
   "cell_type": "code",
   "execution_count": 266,
   "metadata": {},
   "outputs": [],
   "source": [
    "result =pd.DataFrame(num,columns=['x1','x2','x3'])"
   ]
  },
  {
   "cell_type": "code",
   "execution_count": 267,
   "metadata": {},
   "outputs": [
    {
     "data": {
      "text/html": [
       "<div>\n",
       "<style scoped>\n",
       "    .dataframe tbody tr th:only-of-type {\n",
       "        vertical-align: middle;\n",
       "    }\n",
       "\n",
       "    .dataframe tbody tr th {\n",
       "        vertical-align: top;\n",
       "    }\n",
       "\n",
       "    .dataframe thead th {\n",
       "        text-align: right;\n",
       "    }\n",
       "</style>\n",
       "<table border=\"1\" class=\"dataframe\">\n",
       "  <thead>\n",
       "    <tr style=\"text-align: right;\">\n",
       "      <th></th>\n",
       "      <th>x1</th>\n",
       "      <th>x2</th>\n",
       "      <th>x3</th>\n",
       "    </tr>\n",
       "  </thead>\n",
       "  <tbody>\n",
       "    <tr>\n",
       "      <th>0</th>\n",
       "      <td>-0.175562</td>\n",
       "      <td>0.784465</td>\n",
       "      <td>0.800961</td>\n",
       "    </tr>\n",
       "    <tr>\n",
       "      <th>1</th>\n",
       "      <td>-0.585206</td>\n",
       "      <td>-1.961161</td>\n",
       "      <td>-1.985000</td>\n",
       "    </tr>\n",
       "    <tr>\n",
       "      <th>2</th>\n",
       "      <td>0.643726</td>\n",
       "      <td>1.470871</td>\n",
       "      <td>1.447373</td>\n",
       "    </tr>\n",
       "    <tr>\n",
       "      <th>3</th>\n",
       "      <td>1.053370</td>\n",
       "      <td>0.098058</td>\n",
       "      <td>0.201433</td>\n",
       "    </tr>\n",
       "    <tr>\n",
       "      <th>4</th>\n",
       "      <td>-0.994850</td>\n",
       "      <td>0.098058</td>\n",
       "      <td>-0.050739</td>\n",
       "    </tr>\n",
       "    <tr>\n",
       "      <th>5</th>\n",
       "      <td>-1.404494</td>\n",
       "      <td>-0.588348</td>\n",
       "      <td>-0.518854</td>\n",
       "    </tr>\n",
       "    <tr>\n",
       "      <th>6</th>\n",
       "      <td>1.463014</td>\n",
       "      <td>0.098058</td>\n",
       "      <td>0.104826</td>\n",
       "    </tr>\n",
       "  </tbody>\n",
       "</table>\n",
       "</div>"
      ],
      "text/plain": [
       "         x1        x2        x3\n",
       "0 -0.175562  0.784465  0.800961\n",
       "1 -0.585206 -1.961161 -1.985000\n",
       "2  0.643726  1.470871  1.447373\n",
       "3  1.053370  0.098058  0.201433\n",
       "4 -0.994850  0.098058 -0.050739\n",
       "5 -1.404494 -0.588348 -0.518854\n",
       "6  1.463014  0.098058  0.104826"
      ]
     },
     "execution_count": 267,
     "metadata": {},
     "output_type": "execute_result"
    }
   ],
   "source": [
    "result"
   ]
  },
  {
   "cell_type": "code",
   "execution_count": 268,
   "metadata": {},
   "outputs": [],
   "source": [
    "output = pd.concat([result,test.iloc[:,-1:]],axis=1)"
   ]
  },
  {
   "cell_type": "code",
   "execution_count": 269,
   "metadata": {},
   "outputs": [
    {
     "data": {
      "text/html": [
       "<div>\n",
       "<style scoped>\n",
       "    .dataframe tbody tr th:only-of-type {\n",
       "        vertical-align: middle;\n",
       "    }\n",
       "\n",
       "    .dataframe tbody tr th {\n",
       "        vertical-align: top;\n",
       "    }\n",
       "\n",
       "    .dataframe thead th {\n",
       "        text-align: right;\n",
       "    }\n",
       "</style>\n",
       "<table border=\"1\" class=\"dataframe\">\n",
       "  <thead>\n",
       "    <tr style=\"text-align: right;\">\n",
       "      <th></th>\n",
       "      <th>x1</th>\n",
       "      <th>x2</th>\n",
       "      <th>x3</th>\n",
       "      <th>class</th>\n",
       "    </tr>\n",
       "  </thead>\n",
       "  <tbody>\n",
       "    <tr>\n",
       "      <th>0</th>\n",
       "      <td>-0.175562</td>\n",
       "      <td>0.784465</td>\n",
       "      <td>0.800961</td>\n",
       "      <td>1</td>\n",
       "    </tr>\n",
       "    <tr>\n",
       "      <th>1</th>\n",
       "      <td>-0.585206</td>\n",
       "      <td>-1.961161</td>\n",
       "      <td>-1.985000</td>\n",
       "      <td>2</td>\n",
       "    </tr>\n",
       "    <tr>\n",
       "      <th>2</th>\n",
       "      <td>0.643726</td>\n",
       "      <td>1.470871</td>\n",
       "      <td>1.447373</td>\n",
       "      <td>2</td>\n",
       "    </tr>\n",
       "    <tr>\n",
       "      <th>3</th>\n",
       "      <td>1.053370</td>\n",
       "      <td>0.098058</td>\n",
       "      <td>0.201433</td>\n",
       "      <td>2</td>\n",
       "    </tr>\n",
       "    <tr>\n",
       "      <th>4</th>\n",
       "      <td>-0.994850</td>\n",
       "      <td>0.098058</td>\n",
       "      <td>-0.050739</td>\n",
       "      <td>1</td>\n",
       "    </tr>\n",
       "    <tr>\n",
       "      <th>5</th>\n",
       "      <td>-1.404494</td>\n",
       "      <td>-0.588348</td>\n",
       "      <td>-0.518854</td>\n",
       "      <td>1</td>\n",
       "    </tr>\n",
       "    <tr>\n",
       "      <th>6</th>\n",
       "      <td>1.463014</td>\n",
       "      <td>0.098058</td>\n",
       "      <td>0.104826</td>\n",
       "      <td>2</td>\n",
       "    </tr>\n",
       "  </tbody>\n",
       "</table>\n",
       "</div>"
      ],
      "text/plain": [
       "         x1        x2        x3  class\n",
       "0 -0.175562  0.784465  0.800961      1\n",
       "1 -0.585206 -1.961161 -1.985000      2\n",
       "2  0.643726  1.470871  1.447373      2\n",
       "3  1.053370  0.098058  0.201433      2\n",
       "4 -0.994850  0.098058 -0.050739      1\n",
       "5 -1.404494 -0.588348 -0.518854      1\n",
       "6  1.463014  0.098058  0.104826      2"
      ]
     },
     "execution_count": 269,
     "metadata": {},
     "output_type": "execute_result"
    }
   ],
   "source": [
    "output"
   ]
  },
  {
   "cell_type": "code",
   "execution_count": 272,
   "metadata": {},
   "outputs": [],
   "source": [
    "output['distance0'] = output[['x1','x2','x3']].sub(np.array(output.iloc[:1,:3])).pow(2).sum(1).pow(0.5)\n",
    "output['distance1'] = output[['x1','x2','x3']].sub(np.array(output.iloc[1:2,:3])).pow(2).sum(1).pow(0.5)\n",
    "output['distance2'] = output[['x1','x2','x3']].sub(np.array(output.iloc[2:3,:3])).pow(2).sum(1).pow(0.5)\n",
    "output['distance3'] = output[['x1','x2','x3']].sub(np.array(output.iloc[3:4,:3])).pow(2).sum(1).pow(0.5)\n",
    "output['distance4'] = output[['x1','x2','x3']].sub(np.array(output.iloc[4:5,:3])).pow(2).sum(1).pow(0.5)\n",
    "output['distance5'] = output[['x1','x2','x3']].sub(np.array(output.iloc[5:6,:3])).pow(2).sum(1).pow(0.5)\n",
    "output['distance6'] = output[['x1','x2','x3']].sub(np.array(output.iloc[6:,:3])).pow(2).sum(1).pow(0.5)"
   ]
  },
  {
   "cell_type": "code",
   "execution_count": 275,
   "metadata": {},
   "outputs": [
    {
     "data": {
      "text/html": [
       "<div>\n",
       "<style scoped>\n",
       "    .dataframe tbody tr th:only-of-type {\n",
       "        vertical-align: middle;\n",
       "    }\n",
       "\n",
       "    .dataframe tbody tr th {\n",
       "        vertical-align: top;\n",
       "    }\n",
       "\n",
       "    .dataframe thead th {\n",
       "        text-align: right;\n",
       "    }\n",
       "</style>\n",
       "<table border=\"1\" class=\"dataframe\">\n",
       "  <thead>\n",
       "    <tr style=\"text-align: right;\">\n",
       "      <th></th>\n",
       "      <th>x1</th>\n",
       "      <th>x2</th>\n",
       "      <th>x3</th>\n",
       "      <th>class</th>\n",
       "      <th>distance0</th>\n",
       "      <th>distance1</th>\n",
       "      <th>distance2</th>\n",
       "      <th>distance3</th>\n",
       "      <th>distance4</th>\n",
       "      <th>distance5</th>\n",
       "      <th>distance6</th>\n",
       "    </tr>\n",
       "  </thead>\n",
       "  <tbody>\n",
       "    <tr>\n",
       "      <th>0</th>\n",
       "      <td>-0.175562</td>\n",
       "      <td>0.784465</td>\n",
       "      <td>0.800961</td>\n",
       "      <td>1</td>\n",
       "      <td>0.000000</td>\n",
       "      <td>3.932919</td>\n",
       "      <td>1.249093</td>\n",
       "      <td>1.529988</td>\n",
       "      <td>1.366667</td>\n",
       "      <td>2.266451</td>\n",
       "      <td>1.908059</td>\n",
       "    </tr>\n",
       "    <tr>\n",
       "      <th>1</th>\n",
       "      <td>-0.585206</td>\n",
       "      <td>-1.961161</td>\n",
       "      <td>-1.985000</td>\n",
       "      <td>2</td>\n",
       "      <td>3.932919</td>\n",
       "      <td>0.000000</td>\n",
       "      <td>5.007025</td>\n",
       "      <td>3.421375</td>\n",
       "      <td>2.854743</td>\n",
       "      <td>2.169201</td>\n",
       "      <td>3.578123</td>\n",
       "    </tr>\n",
       "    <tr>\n",
       "      <th>2</th>\n",
       "      <td>0.643726</td>\n",
       "      <td>1.470871</td>\n",
       "      <td>1.447373</td>\n",
       "      <td>2</td>\n",
       "      <td>1.249093</td>\n",
       "      <td>5.007025</td>\n",
       "      <td>0.000000</td>\n",
       "      <td>1.898628</td>\n",
       "      <td>2.610342</td>\n",
       "      <td>3.507369</td>\n",
       "      <td>2.087649</td>\n",
       "    </tr>\n",
       "    <tr>\n",
       "      <th>3</th>\n",
       "      <td>1.053370</td>\n",
       "      <td>0.098058</td>\n",
       "      <td>0.201433</td>\n",
       "      <td>2</td>\n",
       "      <td>1.529988</td>\n",
       "      <td>3.421375</td>\n",
       "      <td>1.898628</td>\n",
       "      <td>0.000000</td>\n",
       "      <td>2.063685</td>\n",
       "      <td>2.651615</td>\n",
       "      <td>0.420881</td>\n",
       "    </tr>\n",
       "    <tr>\n",
       "      <th>4</th>\n",
       "      <td>-0.994850</td>\n",
       "      <td>0.098058</td>\n",
       "      <td>-0.050739</td>\n",
       "      <td>1</td>\n",
       "      <td>1.366667</td>\n",
       "      <td>2.854743</td>\n",
       "      <td>2.610342</td>\n",
       "      <td>2.063685</td>\n",
       "      <td>0.000000</td>\n",
       "      <td>0.926334</td>\n",
       "      <td>2.462782</td>\n",
       "    </tr>\n",
       "    <tr>\n",
       "      <th>5</th>\n",
       "      <td>-1.404494</td>\n",
       "      <td>-0.588348</td>\n",
       "      <td>-0.518854</td>\n",
       "      <td>1</td>\n",
       "      <td>2.266451</td>\n",
       "      <td>2.169201</td>\n",
       "      <td>3.507369</td>\n",
       "      <td>2.651615</td>\n",
       "      <td>0.926334</td>\n",
       "      <td>0.000000</td>\n",
       "      <td>3.013757</td>\n",
       "    </tr>\n",
       "    <tr>\n",
       "      <th>6</th>\n",
       "      <td>1.463014</td>\n",
       "      <td>0.098058</td>\n",
       "      <td>0.104826</td>\n",
       "      <td>2</td>\n",
       "      <td>1.908059</td>\n",
       "      <td>3.578123</td>\n",
       "      <td>2.087649</td>\n",
       "      <td>0.420881</td>\n",
       "      <td>2.462782</td>\n",
       "      <td>3.013757</td>\n",
       "      <td>0.000000</td>\n",
       "    </tr>\n",
       "  </tbody>\n",
       "</table>\n",
       "</div>"
      ],
      "text/plain": [
       "         x1        x2        x3  class  distance0  distance1  distance2  \\\n",
       "0 -0.175562  0.784465  0.800961      1   0.000000   3.932919   1.249093   \n",
       "1 -0.585206 -1.961161 -1.985000      2   3.932919   0.000000   5.007025   \n",
       "2  0.643726  1.470871  1.447373      2   1.249093   5.007025   0.000000   \n",
       "3  1.053370  0.098058  0.201433      2   1.529988   3.421375   1.898628   \n",
       "4 -0.994850  0.098058 -0.050739      1   1.366667   2.854743   2.610342   \n",
       "5 -1.404494 -0.588348 -0.518854      1   2.266451   2.169201   3.507369   \n",
       "6  1.463014  0.098058  0.104826      2   1.908059   3.578123   2.087649   \n",
       "\n",
       "   distance3  distance4  distance5  distance6  \n",
       "0   1.529988   1.366667   2.266451   1.908059  \n",
       "1   3.421375   2.854743   2.169201   3.578123  \n",
       "2   1.898628   2.610342   3.507369   2.087649  \n",
       "3   0.000000   2.063685   2.651615   0.420881  \n",
       "4   2.063685   0.000000   0.926334   2.462782  \n",
       "5   2.651615   0.926334   0.000000   3.013757  \n",
       "6   0.420881   2.462782   3.013757   0.000000  "
      ]
     },
     "execution_count": 275,
     "metadata": {},
     "output_type": "execute_result"
    }
   ],
   "source": [
    "output"
   ]
  },
  {
   "cell_type": "code",
   "execution_count": null,
   "metadata": {},
   "outputs": [],
   "source": [
    "np.array(6,0.7)"
   ]
  },
  {
   "cell_type": "code",
   "execution_count": null,
   "metadata": {},
   "outputs": [],
   "source": [
    "output['distance_new1'] = output[['x1','x2','x3']].sub(np.array()).pow(2).sum(1).pow(0.5)"
   ]
  },
  {
   "cell_type": "code",
   "execution_count": 276,
   "metadata": {},
   "outputs": [],
   "source": [
    "data2 = [{'x1': 5, 'x2' :0.7, 'x3' :7.200, 'class' :1},{'x1': 4, 'x2' :0.3, 'x3' :3.278, 'class' :2},{'x1': 7, 'x2' :0.8, 'x3' :8.110, 'class' :2}\n",
    "       ,{'x1': 8, 'x2' :0.6, 'x3' :6.356, 'class' :2},{'x1': 3, 'x2' :0.6, 'x3' :6.001, 'class' :1},{'x1': 2, 'x2' :0.5, 'x3' :5.342, 'class' :1}\n",
    "       ,{'x1': 9, 'x2' :0.6, 'x3' :6.220, 'class' :2},{'x1': 6, 'x2' :0.7, 'x3' :6.666, 'class' :0}]"
   ]
  },
  {
   "cell_type": "code",
   "execution_count": 277,
   "metadata": {},
   "outputs": [],
   "source": [
    "test2 =pd.DataFrame(data2)"
   ]
  },
  {
   "cell_type": "code",
   "execution_count": 278,
   "metadata": {},
   "outputs": [],
   "source": [
    "num2 = test2.iloc[:,:-1]"
   ]
  },
  {
   "cell_type": "code",
   "execution_count": 279,
   "metadata": {
    "scrolled": true
   },
   "outputs": [],
   "source": [
    "fitted2 = std_scaler.fit(num2)"
   ]
  },
  {
   "cell_type": "code",
   "execution_count": 280,
   "metadata": {},
   "outputs": [],
   "source": [
    "num2 = std_scaler.transform(num2)"
   ]
  },
  {
   "cell_type": "code",
   "execution_count": 281,
   "metadata": {},
   "outputs": [],
   "source": [
    "result2 =pd.DataFrame(num2,columns=['x1','x2','x3'])"
   ]
  },
  {
   "cell_type": "code",
   "execution_count": 282,
   "metadata": {},
   "outputs": [
    {
     "data": {
      "text/html": [
       "<div>\n",
       "<style scoped>\n",
       "    .dataframe tbody tr th:only-of-type {\n",
       "        vertical-align: middle;\n",
       "    }\n",
       "\n",
       "    .dataframe tbody tr th {\n",
       "        vertical-align: top;\n",
       "    }\n",
       "\n",
       "    .dataframe thead th {\n",
       "        text-align: right;\n",
       "    }\n",
       "</style>\n",
       "<table border=\"1\" class=\"dataframe\">\n",
       "  <thead>\n",
       "    <tr style=\"text-align: right;\">\n",
       "      <th></th>\n",
       "      <th>x1</th>\n",
       "      <th>x2</th>\n",
       "      <th>x3</th>\n",
       "    </tr>\n",
       "  </thead>\n",
       "  <tbody>\n",
       "    <tr>\n",
       "      <th>0</th>\n",
       "      <td>-0.218218</td>\n",
       "      <td>0.707107</td>\n",
       "      <td>0.791177</td>\n",
       "    </tr>\n",
       "    <tr>\n",
       "      <th>1</th>\n",
       "      <td>-0.654654</td>\n",
       "      <td>-2.121320</td>\n",
       "      <td>-2.154590</td>\n",
       "    </tr>\n",
       "    <tr>\n",
       "      <th>2</th>\n",
       "      <td>0.654654</td>\n",
       "      <td>1.414214</td>\n",
       "      <td>1.474667</td>\n",
       "    </tr>\n",
       "    <tr>\n",
       "      <th>3</th>\n",
       "      <td>1.091089</td>\n",
       "      <td>0.000000</td>\n",
       "      <td>0.157259</td>\n",
       "    </tr>\n",
       "    <tr>\n",
       "      <th>4</th>\n",
       "      <td>-1.091089</td>\n",
       "      <td>0.000000</td>\n",
       "      <td>-0.109377</td>\n",
       "    </tr>\n",
       "    <tr>\n",
       "      <th>5</th>\n",
       "      <td>-1.527525</td>\n",
       "      <td>-0.707107</td>\n",
       "      <td>-0.604344</td>\n",
       "    </tr>\n",
       "    <tr>\n",
       "      <th>6</th>\n",
       "      <td>1.527525</td>\n",
       "      <td>0.000000</td>\n",
       "      <td>0.055111</td>\n",
       "    </tr>\n",
       "    <tr>\n",
       "      <th>7</th>\n",
       "      <td>0.218218</td>\n",
       "      <td>0.707107</td>\n",
       "      <td>0.390096</td>\n",
       "    </tr>\n",
       "  </tbody>\n",
       "</table>\n",
       "</div>"
      ],
      "text/plain": [
       "         x1        x2        x3\n",
       "0 -0.218218  0.707107  0.791177\n",
       "1 -0.654654 -2.121320 -2.154590\n",
       "2  0.654654  1.414214  1.474667\n",
       "3  1.091089  0.000000  0.157259\n",
       "4 -1.091089  0.000000 -0.109377\n",
       "5 -1.527525 -0.707107 -0.604344\n",
       "6  1.527525  0.000000  0.055111\n",
       "7  0.218218  0.707107  0.390096"
      ]
     },
     "execution_count": 282,
     "metadata": {},
     "output_type": "execute_result"
    }
   ],
   "source": [
    "result2"
   ]
  },
  {
   "cell_type": "code",
   "execution_count": 298,
   "metadata": {},
   "outputs": [],
   "source": [
    "output2 = pd.concat([result2\n",
    "                     ,test2.iloc[:,-1:]],axis=1)"
   ]
  },
  {
   "cell_type": "code",
   "execution_count": 299,
   "metadata": {},
   "outputs": [
    {
     "data": {
      "text/html": [
       "<div>\n",
       "<style scoped>\n",
       "    .dataframe tbody tr th:only-of-type {\n",
       "        vertical-align: middle;\n",
       "    }\n",
       "\n",
       "    .dataframe tbody tr th {\n",
       "        vertical-align: top;\n",
       "    }\n",
       "\n",
       "    .dataframe thead th {\n",
       "        text-align: right;\n",
       "    }\n",
       "</style>\n",
       "<table border=\"1\" class=\"dataframe\">\n",
       "  <thead>\n",
       "    <tr style=\"text-align: right;\">\n",
       "      <th></th>\n",
       "      <th>x1</th>\n",
       "      <th>x2</th>\n",
       "      <th>x3</th>\n",
       "      <th>class</th>\n",
       "    </tr>\n",
       "  </thead>\n",
       "  <tbody>\n",
       "    <tr>\n",
       "      <th>0</th>\n",
       "      <td>-0.218218</td>\n",
       "      <td>0.707107</td>\n",
       "      <td>0.791177</td>\n",
       "      <td>1</td>\n",
       "    </tr>\n",
       "    <tr>\n",
       "      <th>1</th>\n",
       "      <td>-0.654654</td>\n",
       "      <td>-2.121320</td>\n",
       "      <td>-2.154590</td>\n",
       "      <td>2</td>\n",
       "    </tr>\n",
       "    <tr>\n",
       "      <th>2</th>\n",
       "      <td>0.654654</td>\n",
       "      <td>1.414214</td>\n",
       "      <td>1.474667</td>\n",
       "      <td>2</td>\n",
       "    </tr>\n",
       "    <tr>\n",
       "      <th>3</th>\n",
       "      <td>1.091089</td>\n",
       "      <td>0.000000</td>\n",
       "      <td>0.157259</td>\n",
       "      <td>2</td>\n",
       "    </tr>\n",
       "    <tr>\n",
       "      <th>4</th>\n",
       "      <td>-1.091089</td>\n",
       "      <td>0.000000</td>\n",
       "      <td>-0.109377</td>\n",
       "      <td>1</td>\n",
       "    </tr>\n",
       "    <tr>\n",
       "      <th>5</th>\n",
       "      <td>-1.527525</td>\n",
       "      <td>-0.707107</td>\n",
       "      <td>-0.604344</td>\n",
       "      <td>1</td>\n",
       "    </tr>\n",
       "    <tr>\n",
       "      <th>6</th>\n",
       "      <td>1.527525</td>\n",
       "      <td>0.000000</td>\n",
       "      <td>0.055111</td>\n",
       "      <td>2</td>\n",
       "    </tr>\n",
       "    <tr>\n",
       "      <th>7</th>\n",
       "      <td>0.218218</td>\n",
       "      <td>0.707107</td>\n",
       "      <td>0.390096</td>\n",
       "      <td>0</td>\n",
       "    </tr>\n",
       "  </tbody>\n",
       "</table>\n",
       "</div>"
      ],
      "text/plain": [
       "         x1        x2        x3  class\n",
       "0 -0.218218  0.707107  0.791177      1\n",
       "1 -0.654654 -2.121320 -2.154590      2\n",
       "2  0.654654  1.414214  1.474667      2\n",
       "3  1.091089  0.000000  0.157259      2\n",
       "4 -1.091089  0.000000 -0.109377      1\n",
       "5 -1.527525 -0.707107 -0.604344      1\n",
       "6  1.527525  0.000000  0.055111      2\n",
       "7  0.218218  0.707107  0.390096      0"
      ]
     },
     "execution_count": 299,
     "metadata": {},
     "output_type": "execute_result"
    }
   ],
   "source": [
    "output2"
   ]
  },
  {
   "cell_type": "code",
   "execution_count": 300,
   "metadata": {},
   "outputs": [],
   "source": [
    "output2['distance_new1'] = output2[['x1','x2','x3']].sub(np.array(output2.iloc[7:,:3])).pow(2).sum(1).pow(0.5)"
   ]
  },
  {
   "cell_type": "code",
   "execution_count": 301,
   "metadata": {},
   "outputs": [
    {
     "data": {
      "text/html": [
       "<div>\n",
       "<style scoped>\n",
       "    .dataframe tbody tr th:only-of-type {\n",
       "        vertical-align: middle;\n",
       "    }\n",
       "\n",
       "    .dataframe tbody tr th {\n",
       "        vertical-align: top;\n",
       "    }\n",
       "\n",
       "    .dataframe thead th {\n",
       "        text-align: right;\n",
       "    }\n",
       "</style>\n",
       "<table border=\"1\" class=\"dataframe\">\n",
       "  <thead>\n",
       "    <tr style=\"text-align: right;\">\n",
       "      <th></th>\n",
       "      <th>x1</th>\n",
       "      <th>x2</th>\n",
       "      <th>x3</th>\n",
       "      <th>class</th>\n",
       "      <th>distance_new1</th>\n",
       "    </tr>\n",
       "  </thead>\n",
       "  <tbody>\n",
       "    <tr>\n",
       "      <th>0</th>\n",
       "      <td>-0.218218</td>\n",
       "      <td>0.707107</td>\n",
       "      <td>0.791177</td>\n",
       "      <td>1</td>\n",
       "      <td>0.592741</td>\n",
       "    </tr>\n",
       "    <tr>\n",
       "      <th>1</th>\n",
       "      <td>-0.654654</td>\n",
       "      <td>-2.121320</td>\n",
       "      <td>-2.154590</td>\n",
       "      <td>2</td>\n",
       "      <td>3.903502</td>\n",
       "    </tr>\n",
       "    <tr>\n",
       "      <th>2</th>\n",
       "      <td>0.654654</td>\n",
       "      <td>1.414214</td>\n",
       "      <td>1.474667</td>\n",
       "      <td>2</td>\n",
       "      <td>1.366298</td>\n",
       "    </tr>\n",
       "    <tr>\n",
       "      <th>3</th>\n",
       "      <td>1.091089</td>\n",
       "      <td>0.000000</td>\n",
       "      <td>0.157259</td>\n",
       "      <td>2</td>\n",
       "      <td>1.147222</td>\n",
       "    </tr>\n",
       "    <tr>\n",
       "      <th>4</th>\n",
       "      <td>-1.091089</td>\n",
       "      <td>0.000000</td>\n",
       "      <td>-0.109377</td>\n",
       "      <td>1</td>\n",
       "      <td>1.569637</td>\n",
       "    </tr>\n",
       "    <tr>\n",
       "      <th>5</th>\n",
       "      <td>-1.527525</td>\n",
       "      <td>-0.707107</td>\n",
       "      <td>-0.604344</td>\n",
       "      <td>1</td>\n",
       "      <td>2.456935</td>\n",
       "    </tr>\n",
       "    <tr>\n",
       "      <th>6</th>\n",
       "      <td>1.527525</td>\n",
       "      <td>0.000000</td>\n",
       "      <td>0.055111</td>\n",
       "      <td>2</td>\n",
       "      <td>1.525287</td>\n",
       "    </tr>\n",
       "    <tr>\n",
       "      <th>7</th>\n",
       "      <td>0.218218</td>\n",
       "      <td>0.707107</td>\n",
       "      <td>0.390096</td>\n",
       "      <td>0</td>\n",
       "      <td>0.000000</td>\n",
       "    </tr>\n",
       "  </tbody>\n",
       "</table>\n",
       "</div>"
      ],
      "text/plain": [
       "         x1        x2        x3  class  distance_new1\n",
       "0 -0.218218  0.707107  0.791177      1       0.592741\n",
       "1 -0.654654 -2.121320 -2.154590      2       3.903502\n",
       "2  0.654654  1.414214  1.474667      2       1.366298\n",
       "3  1.091089  0.000000  0.157259      2       1.147222\n",
       "4 -1.091089  0.000000 -0.109377      1       1.569637\n",
       "5 -1.527525 -0.707107 -0.604344      1       2.456935\n",
       "6  1.527525  0.000000  0.055111      2       1.525287\n",
       "7  0.218218  0.707107  0.390096      0       0.000000"
      ]
     },
     "execution_count": 301,
     "metadata": {},
     "output_type": "execute_result"
    }
   ],
   "source": [
    "output2"
   ]
  },
  {
   "cell_type": "code",
   "execution_count": 302,
   "metadata": {},
   "outputs": [],
   "source": [
    "data3 = [{'x1': 5, 'x2' :0.7, 'x3' :7.200, 'class' :1},{'x1': 4, 'x2' :0.3, 'x3' :3.278, 'class' :2},{'x1': 7, 'x2' :0.8, 'x3' :8.110, 'class' :2}\n",
    "       ,{'x1': 8, 'x2' :0.6, 'x3' :6.356, 'class' :2},{'x1': 3, 'x2' :0.6, 'x3' :6.001, 'class' :1},{'x1': 2, 'x2' :0.5, 'x3' :5.342, 'class' :1}\n",
    "       ,{'x1': 9, 'x2' :0.6, 'x3' :6.220, 'class' :2},{'x1': 6, 'x2' :0.7, 'x3' :6.666, 'class' :2},{'x1': 4, 'x2' :0.2, 'x3' :6.320, 'class' :0}]"
   ]
  },
  {
   "cell_type": "code",
   "execution_count": 288,
   "metadata": {},
   "outputs": [],
   "source": [
    "test3 =pd.DataFrame(data3)"
   ]
  },
  {
   "cell_type": "code",
   "execution_count": 289,
   "metadata": {},
   "outputs": [],
   "source": [
    "num3 = test3.iloc[:,:-1]"
   ]
  },
  {
   "cell_type": "code",
   "execution_count": 290,
   "metadata": {},
   "outputs": [],
   "source": [
    "fitted3 = std_scaler.fit(num3)"
   ]
  },
  {
   "cell_type": "code",
   "execution_count": 291,
   "metadata": {},
   "outputs": [],
   "source": [
    "num3 = std_scaler.transform(num3)"
   ]
  },
  {
   "cell_type": "code",
   "execution_count": 292,
   "metadata": {},
   "outputs": [],
   "source": [
    "result3 =pd.DataFrame(num3,columns=['x1','x2','x3'])"
   ]
  },
  {
   "cell_type": "code",
   "execution_count": 293,
   "metadata": {},
   "outputs": [
    {
     "data": {
      "text/html": [
       "<div>\n",
       "<style scoped>\n",
       "    .dataframe tbody tr th:only-of-type {\n",
       "        vertical-align: middle;\n",
       "    }\n",
       "\n",
       "    .dataframe tbody tr th {\n",
       "        vertical-align: top;\n",
       "    }\n",
       "\n",
       "    .dataframe thead th {\n",
       "        text-align: right;\n",
       "    }\n",
       "</style>\n",
       "<table border=\"1\" class=\"dataframe\">\n",
       "  <thead>\n",
       "    <tr style=\"text-align: right;\">\n",
       "      <th></th>\n",
       "      <th>x1</th>\n",
       "      <th>x2</th>\n",
       "      <th>x3</th>\n",
       "    </tr>\n",
       "  </thead>\n",
       "  <tbody>\n",
       "    <tr>\n",
       "      <th>0</th>\n",
       "      <td>-0.150756</td>\n",
       "      <td>0.788241</td>\n",
       "      <td>0.823049</td>\n",
       "    </tr>\n",
       "    <tr>\n",
       "      <th>1</th>\n",
       "      <td>-0.603023</td>\n",
       "      <td>-1.394580</td>\n",
       "      <td>-2.298470</td>\n",
       "    </tr>\n",
       "    <tr>\n",
       "      <th>2</th>\n",
       "      <td>0.753778</td>\n",
       "      <td>1.333946</td>\n",
       "      <td>1.547317</td>\n",
       "    </tr>\n",
       "    <tr>\n",
       "      <th>3</th>\n",
       "      <td>1.206045</td>\n",
       "      <td>0.242536</td>\n",
       "      <td>0.151309</td>\n",
       "    </tr>\n",
       "    <tr>\n",
       "      <th>4</th>\n",
       "      <td>-1.055290</td>\n",
       "      <td>0.242536</td>\n",
       "      <td>-0.131235</td>\n",
       "    </tr>\n",
       "    <tr>\n",
       "      <th>5</th>\n",
       "      <td>-1.507557</td>\n",
       "      <td>-0.303170</td>\n",
       "      <td>-0.655733</td>\n",
       "    </tr>\n",
       "    <tr>\n",
       "      <th>6</th>\n",
       "      <td>1.658312</td>\n",
       "      <td>0.242536</td>\n",
       "      <td>0.043067</td>\n",
       "    </tr>\n",
       "    <tr>\n",
       "      <th>7</th>\n",
       "      <td>0.301511</td>\n",
       "      <td>0.788241</td>\n",
       "      <td>0.398038</td>\n",
       "    </tr>\n",
       "    <tr>\n",
       "      <th>8</th>\n",
       "      <td>-0.603023</td>\n",
       "      <td>-1.940285</td>\n",
       "      <td>0.122657</td>\n",
       "    </tr>\n",
       "  </tbody>\n",
       "</table>\n",
       "</div>"
      ],
      "text/plain": [
       "         x1        x2        x3\n",
       "0 -0.150756  0.788241  0.823049\n",
       "1 -0.603023 -1.394580 -2.298470\n",
       "2  0.753778  1.333946  1.547317\n",
       "3  1.206045  0.242536  0.151309\n",
       "4 -1.055290  0.242536 -0.131235\n",
       "5 -1.507557 -0.303170 -0.655733\n",
       "6  1.658312  0.242536  0.043067\n",
       "7  0.301511  0.788241  0.398038\n",
       "8 -0.603023 -1.940285  0.122657"
      ]
     },
     "execution_count": 293,
     "metadata": {},
     "output_type": "execute_result"
    }
   ],
   "source": [
    "result3"
   ]
  },
  {
   "cell_type": "code",
   "execution_count": 303,
   "metadata": {},
   "outputs": [],
   "source": [
    "output3 = pd.concat([result3\n",
    "                     ,test3.iloc[:,-1:]],axis=1)"
   ]
  },
  {
   "cell_type": "code",
   "execution_count": 304,
   "metadata": {},
   "outputs": [
    {
     "data": {
      "text/html": [
       "<div>\n",
       "<style scoped>\n",
       "    .dataframe tbody tr th:only-of-type {\n",
       "        vertical-align: middle;\n",
       "    }\n",
       "\n",
       "    .dataframe tbody tr th {\n",
       "        vertical-align: top;\n",
       "    }\n",
       "\n",
       "    .dataframe thead th {\n",
       "        text-align: right;\n",
       "    }\n",
       "</style>\n",
       "<table border=\"1\" class=\"dataframe\">\n",
       "  <thead>\n",
       "    <tr style=\"text-align: right;\">\n",
       "      <th></th>\n",
       "      <th>x1</th>\n",
       "      <th>x2</th>\n",
       "      <th>x3</th>\n",
       "      <th>class</th>\n",
       "    </tr>\n",
       "  </thead>\n",
       "  <tbody>\n",
       "    <tr>\n",
       "      <th>0</th>\n",
       "      <td>-0.150756</td>\n",
       "      <td>0.788241</td>\n",
       "      <td>0.823049</td>\n",
       "      <td>1</td>\n",
       "    </tr>\n",
       "    <tr>\n",
       "      <th>1</th>\n",
       "      <td>-0.603023</td>\n",
       "      <td>-1.394580</td>\n",
       "      <td>-2.298470</td>\n",
       "      <td>2</td>\n",
       "    </tr>\n",
       "    <tr>\n",
       "      <th>2</th>\n",
       "      <td>0.753778</td>\n",
       "      <td>1.333946</td>\n",
       "      <td>1.547317</td>\n",
       "      <td>2</td>\n",
       "    </tr>\n",
       "    <tr>\n",
       "      <th>3</th>\n",
       "      <td>1.206045</td>\n",
       "      <td>0.242536</td>\n",
       "      <td>0.151309</td>\n",
       "      <td>2</td>\n",
       "    </tr>\n",
       "    <tr>\n",
       "      <th>4</th>\n",
       "      <td>-1.055290</td>\n",
       "      <td>0.242536</td>\n",
       "      <td>-0.131235</td>\n",
       "      <td>1</td>\n",
       "    </tr>\n",
       "    <tr>\n",
       "      <th>5</th>\n",
       "      <td>-1.507557</td>\n",
       "      <td>-0.303170</td>\n",
       "      <td>-0.655733</td>\n",
       "      <td>1</td>\n",
       "    </tr>\n",
       "    <tr>\n",
       "      <th>6</th>\n",
       "      <td>1.658312</td>\n",
       "      <td>0.242536</td>\n",
       "      <td>0.043067</td>\n",
       "      <td>2</td>\n",
       "    </tr>\n",
       "    <tr>\n",
       "      <th>7</th>\n",
       "      <td>0.301511</td>\n",
       "      <td>0.788241</td>\n",
       "      <td>0.398038</td>\n",
       "      <td>2</td>\n",
       "    </tr>\n",
       "    <tr>\n",
       "      <th>8</th>\n",
       "      <td>-0.603023</td>\n",
       "      <td>-1.940285</td>\n",
       "      <td>0.122657</td>\n",
       "      <td>0</td>\n",
       "    </tr>\n",
       "  </tbody>\n",
       "</table>\n",
       "</div>"
      ],
      "text/plain": [
       "         x1        x2        x3  class\n",
       "0 -0.150756  0.788241  0.823049      1\n",
       "1 -0.603023 -1.394580 -2.298470      2\n",
       "2  0.753778  1.333946  1.547317      2\n",
       "3  1.206045  0.242536  0.151309      2\n",
       "4 -1.055290  0.242536 -0.131235      1\n",
       "5 -1.507557 -0.303170 -0.655733      1\n",
       "6  1.658312  0.242536  0.043067      2\n",
       "7  0.301511  0.788241  0.398038      2\n",
       "8 -0.603023 -1.940285  0.122657      0"
      ]
     },
     "execution_count": 304,
     "metadata": {},
     "output_type": "execute_result"
    }
   ],
   "source": [
    "output3"
   ]
  },
  {
   "cell_type": "code",
   "execution_count": 305,
   "metadata": {},
   "outputs": [],
   "source": [
    "output3['distance_new2'] = output3[['x1','x2','x3']].sub(np.array(output3.iloc[8:,:3])).pow(2).sum(1).pow(0.5)"
   ]
  },
  {
   "cell_type": "code",
   "execution_count": 306,
   "metadata": {},
   "outputs": [
    {
     "data": {
      "text/html": [
       "<div>\n",
       "<style scoped>\n",
       "    .dataframe tbody tr th:only-of-type {\n",
       "        vertical-align: middle;\n",
       "    }\n",
       "\n",
       "    .dataframe tbody tr th {\n",
       "        vertical-align: top;\n",
       "    }\n",
       "\n",
       "    .dataframe thead th {\n",
       "        text-align: right;\n",
       "    }\n",
       "</style>\n",
       "<table border=\"1\" class=\"dataframe\">\n",
       "  <thead>\n",
       "    <tr style=\"text-align: right;\">\n",
       "      <th></th>\n",
       "      <th>x1</th>\n",
       "      <th>x2</th>\n",
       "      <th>x3</th>\n",
       "      <th>class</th>\n",
       "      <th>distance_new2</th>\n",
       "    </tr>\n",
       "  </thead>\n",
       "  <tbody>\n",
       "    <tr>\n",
       "      <th>0</th>\n",
       "      <td>-0.150756</td>\n",
       "      <td>0.788241</td>\n",
       "      <td>0.823049</td>\n",
       "      <td>1</td>\n",
       "      <td>2.853059</td>\n",
       "    </tr>\n",
       "    <tr>\n",
       "      <th>1</th>\n",
       "      <td>-0.603023</td>\n",
       "      <td>-1.394580</td>\n",
       "      <td>-2.298470</td>\n",
       "      <td>2</td>\n",
       "      <td>2.481864</td>\n",
       "    </tr>\n",
       "    <tr>\n",
       "      <th>2</th>\n",
       "      <td>0.753778</td>\n",
       "      <td>1.333946</td>\n",
       "      <td>1.547317</td>\n",
       "      <td>2</td>\n",
       "      <td>3.819837</td>\n",
       "    </tr>\n",
       "    <tr>\n",
       "      <th>3</th>\n",
       "      <td>1.206045</td>\n",
       "      <td>0.242536</td>\n",
       "      <td>0.151309</td>\n",
       "      <td>2</td>\n",
       "      <td>2.835181</td>\n",
       "    </tr>\n",
       "    <tr>\n",
       "      <th>4</th>\n",
       "      <td>-1.055290</td>\n",
       "      <td>0.242536</td>\n",
       "      <td>-0.131235</td>\n",
       "      <td>1</td>\n",
       "      <td>2.243594</td>\n",
       "    </tr>\n",
       "    <tr>\n",
       "      <th>5</th>\n",
       "      <td>-1.507557</td>\n",
       "      <td>-0.303170</td>\n",
       "      <td>-0.655733</td>\n",
       "      <td>1</td>\n",
       "      <td>2.025887</td>\n",
       "    </tr>\n",
       "    <tr>\n",
       "      <th>6</th>\n",
       "      <td>1.658312</td>\n",
       "      <td>0.242536</td>\n",
       "      <td>0.043067</td>\n",
       "      <td>2</td>\n",
       "      <td>3.143991</td>\n",
       "    </tr>\n",
       "    <tr>\n",
       "      <th>7</th>\n",
       "      <td>0.301511</td>\n",
       "      <td>0.788241</td>\n",
       "      <td>0.398038</td>\n",
       "      <td>2</td>\n",
       "      <td>2.887710</td>\n",
       "    </tr>\n",
       "    <tr>\n",
       "      <th>8</th>\n",
       "      <td>-0.603023</td>\n",
       "      <td>-1.940285</td>\n",
       "      <td>0.122657</td>\n",
       "      <td>0</td>\n",
       "      <td>0.000000</td>\n",
       "    </tr>\n",
       "  </tbody>\n",
       "</table>\n",
       "</div>"
      ],
      "text/plain": [
       "         x1        x2        x3  class  distance_new2\n",
       "0 -0.150756  0.788241  0.823049      1       2.853059\n",
       "1 -0.603023 -1.394580 -2.298470      2       2.481864\n",
       "2  0.753778  1.333946  1.547317      2       3.819837\n",
       "3  1.206045  0.242536  0.151309      2       2.835181\n",
       "4 -1.055290  0.242536 -0.131235      1       2.243594\n",
       "5 -1.507557 -0.303170 -0.655733      1       2.025887\n",
       "6  1.658312  0.242536  0.043067      2       3.143991\n",
       "7  0.301511  0.788241  0.398038      2       2.887710\n",
       "8 -0.603023 -1.940285  0.122657      0       0.000000"
      ]
     },
     "execution_count": 306,
     "metadata": {},
     "output_type": "execute_result"
    }
   ],
   "source": [
    "output3"
   ]
  },
  {
   "cell_type": "code",
   "execution_count": 320,
   "metadata": {},
   "outputs": [],
   "source": [
    "x1 = np.array([-7,-4,6])"
   ]
  },
  {
   "cell_type": "code",
   "execution_count": 332,
   "metadata": {},
   "outputs": [],
   "source": [
    "x1_t = np.array([[-7],[-4],[-6]])"
   ]
  },
  {
   "cell_type": "code",
   "execution_count": 333,
   "metadata": {},
   "outputs": [
    {
     "data": {
      "text/plain": [
       "array([[-7],\n",
       "       [-4],\n",
       "       [-6]])"
      ]
     },
     "execution_count": 333,
     "metadata": {},
     "output_type": "execute_result"
    }
   ],
   "source": [
    "x1_t"
   ]
  },
  {
   "cell_type": "code",
   "execution_count": 336,
   "metadata": {},
   "outputs": [],
   "source": [
    "co = np.array([[1,-0.17425,-0.84599],[-0.17425,1,0.144427],[-.084599,0.144427,1]])"
   ]
  },
  {
   "cell_type": "code",
   "execution_count": 337,
   "metadata": {},
   "outputs": [
    {
     "data": {
      "text/plain": [
       "array([[ 1.      , -0.17425 , -0.84599 ],\n",
       "       [-0.17425 ,  1.      ,  0.144427],\n",
       "       [-0.084599,  0.144427,  1.      ]])"
      ]
     },
     "execution_count": 337,
     "metadata": {},
     "output_type": "execute_result"
    }
   ],
   "source": [
    "co"
   ]
  },
  {
   "cell_type": "code",
   "execution_count": 340,
   "metadata": {},
   "outputs": [],
   "source": [
    "answer = np.multiply(x1,co)"
   ]
  },
  {
   "cell_type": "code",
   "execution_count": 341,
   "metadata": {},
   "outputs": [
    {
     "data": {
      "text/plain": [
       "array([[-7.      ,  0.697   , -5.07594 ],\n",
       "       [ 1.21975 , -4.      ,  0.866562],\n",
       "       [ 0.592193, -0.577708,  6.      ]])"
      ]
     },
     "execution_count": 341,
     "metadata": {},
     "output_type": "execute_result"
    }
   ],
   "source": [
    "answer"
   ]
  },
  {
   "cell_type": "code",
   "execution_count": 342,
   "metadata": {},
   "outputs": [],
   "source": [
    "answer = np.multiply(answer,x1_t)"
   ]
  },
  {
   "cell_type": "code",
   "execution_count": 343,
   "metadata": {},
   "outputs": [
    {
     "data": {
      "text/plain": [
       "array([[ 49.      ,  -4.879   ,  35.53158 ],\n",
       "       [ -4.879   ,  16.      ,  -3.466248],\n",
       "       [ -3.553158,   3.466248, -36.      ]])"
      ]
     },
     "execution_count": 343,
     "metadata": {},
     "output_type": "execute_result"
    }
   ],
   "source": [
    "answer"
   ]
  },
  {
   "cell_type": "code",
   "execution_count": 344,
   "metadata": {},
   "outputs": [
    {
     "name": "stderr",
     "output_type": "stream",
     "text": [
      "C:\\Users\\jaehee\\Anaconda3\\lib\\site-packages\\ipykernel_launcher.py:1: RuntimeWarning: invalid value encountered in sqrt\n",
      "  \"\"\"Entry point for launching an IPython kernel.\n"
     ]
    },
    {
     "data": {
      "text/plain": [
       "array([[7.        ,        nan, 5.96083719],\n",
       "       [       nan, 4.        ,        nan],\n",
       "       [       nan, 1.86178624,        nan]])"
      ]
     },
     "execution_count": 344,
     "metadata": {},
     "output_type": "execute_result"
    }
   ],
   "source": [
    "np.sqrt(answer)"
   ]
  },
  {
   "cell_type": "code",
   "execution_count": null,
   "metadata": {},
   "outputs": [],
   "source": []
  }
 ],
 "metadata": {
  "kernelspec": {
   "display_name": "Python 3",
   "language": "python",
   "name": "python3"
  },
  "language_info": {
   "codemirror_mode": {
    "name": "ipython",
    "version": 3
   },
   "file_extension": ".py",
   "mimetype": "text/x-python",
   "name": "python",
   "nbconvert_exporter": "python",
   "pygments_lexer": "ipython3",
   "version": "3.6.7"
  }
 },
 "nbformat": 4,
 "nbformat_minor": 2
}
