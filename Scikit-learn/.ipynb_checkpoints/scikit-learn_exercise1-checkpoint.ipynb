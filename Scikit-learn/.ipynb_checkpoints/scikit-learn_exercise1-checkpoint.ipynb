{
 "cells": [
  {
   "cell_type": "code",
   "execution_count": 1,
   "metadata": {},
   "outputs": [
    {
     "name": "stdout",
     "output_type": "stream",
     "text": [
      "Data Type of Iris: <class 'pandas.core.frame.DataFrame'> \n",
      "\n",
      "Iris Dataset: \n",
      "    sepal_length  sepal_width  petal_length  petal_width species\n",
      "0           5.1          3.5           1.4          0.2  setosa\n",
      "1           4.9          3.0           1.4          0.2  setosa\n",
      "2           4.7          3.2           1.3          0.2  setosa\n",
      "3           4.6          3.1           1.5          0.2  setosa\n",
      "4           5.0          3.6           1.4          0.2  setosa\n"
     ]
    }
   ],
   "source": [
    "## 준비) 모듈 및 데이터 불러오기\n",
    "import seaborn as sns\n",
    "import pandas as pd\n",
    "\n",
    "iris = sns.load_dataset('iris')\n",
    "print(\"Data Type of Iris:\", type(iris), \"\\n\")\n",
    "print(\"Iris Dataset: \\n\", iris.head()) "
   ]
  },
  {
   "cell_type": "code",
   "execution_count": 2,
   "metadata": {},
   "outputs": [
    {
     "name": "stdout",
     "output_type": "stream",
     "text": [
      "Train_X's shape: (105, 4) ,\t Train_y's shape: (105,)\n",
      "Test_X's shape: (45, 4) ,\t Test_y's shape: (45,)\n",
      "\n",
      "head of Train_X:\n",
      "     sepal_length  sepal_width  petal_length  petal_width\n",
      "7            5.0          3.4           1.5          0.2\n",
      "52           6.9          3.1           4.9          1.5\n",
      "63           6.1          2.9           4.7          1.4\n",
      "53           5.5          2.3           4.0          1.3\n",
      "98           5.1          2.5           3.0          1.1\n"
     ]
    }
   ],
   "source": [
    "##1 데이터 분리\n",
    "#(1) feature와 label의 분리\n",
    "X_iris = iris.iloc[:, :-1]\n",
    "y_iris = iris['species'] #Y_iris = iris.iloc[:, -1]\n",
    "\n",
    "#(2) 학습 데이터와 평가 데이터의 분리(test_size = 0.3으로 설정)\n",
    "from sklearn.model_selection import train_test_split\n",
    "Train_X, Test_X, Train_y, Test_y = train_test_split(X_iris, y_iris, test_size = 0.3)\n",
    "\n",
    "print(\"Train_X's shape:\", Train_X.shape, \",\\t Train_y's shape:\", Train_y.shape)\n",
    "print(\"Test_X's shape:\", Test_X.shape, \",\\t Test_y's shape:\", Test_y.shape) # 150*0.3 = 45\n",
    "print('\\nhead of Train_X:\\n', Train_X.head())"
   ]
  },
  {
   "cell_type": "code",
   "execution_count": 3,
   "metadata": {},
   "outputs": [],
   "source": [
    "##3. Decision Tree 모델 인스턴스화 및 파라미터 설정\n",
    "from sklearn import tree\n",
    "model_DT = tree.DecisionTreeClassifier(max_depth=3)"
   ]
  },
  {
   "cell_type": "code",
   "execution_count": 4,
   "metadata": {},
   "outputs": [
    {
     "data": {
      "text/plain": [
       "DecisionTreeClassifier(class_weight=None, criterion='gini', max_depth=3,\n",
       "                       max_features=None, max_leaf_nodes=None,\n",
       "                       min_impurity_decrease=0.0, min_impurity_split=None,\n",
       "                       min_samples_leaf=1, min_samples_split=2,\n",
       "                       min_weight_fraction_leaf=0.0, presort=False,\n",
       "                       random_state=None, splitter='best')"
      ]
     },
     "execution_count": 4,
     "metadata": {},
     "output_type": "execute_result"
    }
   ],
   "source": [
    "##4. Decision Tree 모델 학습\n",
    "model_DT.fit(Train_X, Train_y) "
   ]
  },
  {
   "cell_type": "code",
   "execution_count": 5,
   "metadata": {},
   "outputs": [],
   "source": [
    "##5. Decision Tree 모델 적용\n",
    "predicted_DT = model_DT.predict(Test_X)"
   ]
  },
  {
   "cell_type": "code",
   "execution_count": 6,
   "metadata": {},
   "outputs": [
    {
     "name": "stdout",
     "output_type": "stream",
     "text": [
      "\n",
      " 1. confusion matrix\n",
      " [[13  0  0]\n",
      " [ 0 12  1]\n",
      " [ 0  3 16]]\n",
      "\n",
      " 2. classification report\n",
      "               precision    recall  f1-score   support\n",
      "\n",
      "      setosa       1.00      1.00      1.00        13\n",
      "  versicolor       0.80      0.92      0.86        13\n",
      "   virginica       0.94      0.84      0.89        19\n",
      "\n",
      "    accuracy                           0.91        45\n",
      "   macro avg       0.91      0.92      0.92        45\n",
      "weighted avg       0.92      0.91      0.91        45\n",
      "\n",
      "3. performance measurements for classification model\n"
     ]
    },
    {
     "data": {
      "text/html": [
       "<div>\n",
       "<style scoped>\n",
       "    .dataframe tbody tr th:only-of-type {\n",
       "        vertical-align: middle;\n",
       "    }\n",
       "\n",
       "    .dataframe tbody tr th {\n",
       "        vertical-align: top;\n",
       "    }\n",
       "\n",
       "    .dataframe thead th {\n",
       "        text-align: right;\n",
       "    }\n",
       "</style>\n",
       "<table border=\"1\" class=\"dataframe\">\n",
       "  <thead>\n",
       "    <tr style=\"text-align: right;\">\n",
       "      <th></th>\n",
       "      <th>Accuracy</th>\n",
       "      <th>Precision</th>\n",
       "      <th>Recall</th>\n",
       "      <th>F1-score</th>\n",
       "    </tr>\n",
       "  </thead>\n",
       "  <tbody>\n",
       "    <tr>\n",
       "      <th>DT</th>\n",
       "      <td>0.911111</td>\n",
       "      <td>0.913725</td>\n",
       "      <td>0.921727</td>\n",
       "      <td>0.915344</td>\n",
       "    </tr>\n",
       "  </tbody>\n",
       "</table>\n",
       "</div>"
      ],
      "text/plain": [
       "    Accuracy  Precision    Recall  F1-score\n",
       "DT  0.911111   0.913725  0.921727  0.915344"
      ]
     },
     "execution_count": 6,
     "metadata": {},
     "output_type": "execute_result"
    }
   ],
   "source": [
    "##6. Decision Tree 평가\n",
    "from sklearn.metrics import *\n",
    "print(\"\\n 1. confusion matrix\\n\", confusion_matrix(Test_y, predicted_DT))\n",
    "print(\"\\n 2. classification report\\n\", classification_report(Test_y, predicted_DT))\n",
    "\n",
    "res_DT = []\n",
    "res_DT.append([accuracy_score(Test_y, predicted_DT),\n",
    "               precision_score(Test_y, predicted_DT, average = \"macro\"),\n",
    "               recall_score(Test_y, predicted_DT, average = \"macro\"),\n",
    "               f1_score(Test_y, predicted_DT, average = \"macro\")])\n",
    "\n",
    "print(\"3. performance measurements for classification model\")\n",
    "pd.DataFrame(res_DT, columns = [\"Accuracy\", \"Precision\", \"Recall\", \"F1-score\"], index=['DT'])"
   ]
  },
  {
   "cell_type": "code",
   "execution_count": 7,
   "metadata": {},
   "outputs": [
    {
     "ename": "ModuleNotFoundError",
     "evalue": "No module named 'pydot'",
     "output_type": "error",
     "traceback": [
      "\u001b[1;31m---------------------------------------------------------------------------\u001b[0m",
      "\u001b[1;31mModuleNotFoundError\u001b[0m                       Traceback (most recent call last)",
      "\u001b[1;32m<ipython-input-7-8f6edcb221a6>\u001b[0m in \u001b[0;36m<module>\u001b[1;34m\u001b[0m\n\u001b[0;32m      1\u001b[0m \u001b[1;31m## 7. 결과 해석 및 시각화\u001b[0m\u001b[1;33m\u001b[0m\u001b[1;33m\u001b[0m\u001b[1;33m\u001b[0m\u001b[0m\n\u001b[0;32m      2\u001b[0m \u001b[1;32mimport\u001b[0m \u001b[0mio\u001b[0m\u001b[1;33m\u001b[0m\u001b[1;33m\u001b[0m\u001b[0m\n\u001b[1;32m----> 3\u001b[1;33m \u001b[1;32mimport\u001b[0m \u001b[0mpydot\u001b[0m\u001b[1;33m\u001b[0m\u001b[1;33m\u001b[0m\u001b[0m\n\u001b[0m\u001b[0;32m      4\u001b[0m \u001b[1;32mfrom\u001b[0m \u001b[0mIPython\u001b[0m\u001b[1;33m.\u001b[0m\u001b[0mcore\u001b[0m\u001b[1;33m.\u001b[0m\u001b[0mdisplay\u001b[0m \u001b[1;32mimport\u001b[0m \u001b[0mImage\u001b[0m\u001b[1;33m\u001b[0m\u001b[1;33m\u001b[0m\u001b[0m\n\u001b[0;32m      5\u001b[0m \u001b[1;32mfrom\u001b[0m \u001b[0msklearn\u001b[0m\u001b[1;33m.\u001b[0m\u001b[0mtree\u001b[0m \u001b[1;32mimport\u001b[0m \u001b[0mexport_graphviz\u001b[0m\u001b[1;33m\u001b[0m\u001b[1;33m\u001b[0m\u001b[0m\n",
      "\u001b[1;31mModuleNotFoundError\u001b[0m: No module named 'pydot'"
     ]
    }
   ],
   "source": [
    "## 7. 결과 해석 및 시각화\n",
    "import io\n",
    "import graphviz\n",
    "import pydot\n",
    "from IPython.core.display import Image\n",
    "from sklearn.tree import export_graphviz\n",
    "\n",
    "def draw_decision_tree(model):\n",
    "    dot_buf = io.StringIO()\n",
    "    export_graphviz(model, out_file=dot_buf, feature_names=Train_X.columns, \n",
    "                    class_names=Train_y.unique(), filled=True)\n",
    "    graph = pydot.graph_from_dot_data(dot_buf.getvalue())[0]\n",
    "    image = graph.create_png()\n",
    "    return Image(image)\n",
    "\n",
    "draw_decision_tree(model_DT)"
   ]
  },
  {
   "cell_type": "code",
   "execution_count": null,
   "metadata": {},
   "outputs": [],
   "source": []
  }
 ],
 "metadata": {
  "kernelspec": {
   "display_name": "Python 3",
   "language": "python",
   "name": "python3"
  },
  "language_info": {
   "codemirror_mode": {
    "name": "ipython",
    "version": 3
   },
   "file_extension": ".py",
   "mimetype": "text/x-python",
   "name": "python",
   "nbconvert_exporter": "python",
   "pygments_lexer": "ipython3",
   "version": "3.6.7"
  }
 },
 "nbformat": 4,
 "nbformat_minor": 2
}
